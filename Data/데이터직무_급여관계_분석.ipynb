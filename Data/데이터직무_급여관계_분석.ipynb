{
 "cells": [
  {
   "cell_type": "markdown",
   "metadata": {},
   "source": [
    "# 데이터 직무에 따른 연봉 분석"
   ]
  },
  {
   "cell_type": "markdown",
   "metadata": {},
   "source": [
    "> **목표:**\n",
    "- 경력레벨, 고용 형태, 근무 모델 등이 연봉에 미치는 영향 분석\n",
    "- 직원 거주 지역과 회사 위치가 연봉 차이에 미치는 영향 조사\n",
    "- 회사 규모가 연봉에 미치는 영향 평가\n",
    "- 연도별 연봉 변화 추세 분석\n",
    "- 직무별 연봉 차이 및 연관된 기술/역량 분석"
   ]
  },
  {
   "cell_type": "markdown",
   "metadata": {},
   "source": [
    "> **데이터**\n",
    "\n",
    "* 데이터 명세 ⬇\n",
    "\n",
    "| Column              | Description                    |\n",
    "|:--------------------|:-------------------------------|\n",
    "| job_title           | 직업명 혹은 직책                |\n",
    "| experience_level    | 경력                            |\n",
    "| employment_type     | 고용형태                        | \n",
    "| work_models         | 근무형태(대면/비대면)           |\n",
    "| work_year           | 기록된 급여를 받은 연도         |\n",
    "| emplopyee_residence | 근로자 거주지                   |\n",
    "| salary              | 급여자 거주국 통화로 기록된 급여 |\n",
    "| salary_currency     | 급여가 표시되는 통화            |\n",
    "| salary_in_usd       | 달러로 환산한 급여              |\n",
    "| company_location    | 회사 위치                      |\n",
    "| company_size        | 회사 규모(대/중/소)             |\n",
    "\n"
   ]
  },
  {
   "cell_type": "markdown",
   "metadata": {},
   "source": [
    "> **예상 결과**\n",
    "- 경력 레벨, 근무 형태, 근무 모델 등의 다양한 요인들이 연봉에 미치는 구체적인 영향력 파악\n",
    "- 지역별 연봉 차이와 이에 영향을 미치는 요인들 식별\n",
    "- 연도별 연봉 변화의 추세와 패턴 도출\n",
    "- 직무별 연봉 차이와 특정 기술 또는 역량이 연봉에 미치는 영향 분석"
   ]
  },
  {
   "cell_type": "markdown",
   "metadata": {},
   "source": [
    "> **기대효과**\n",
    "- 이 프로젝트를 통해 얻은 인사이트는 구직자가 더 정보에 기반한 직업 선택을 할 수 있게 하고, 기업은 인재 유치 및 유지 전략을 개선하는 데 도움을 줄 것으로 예상.\n",
    "또한, 업계 전반의 연봉 투명성을 증진시키고, 공정한 연봉 책정 기준 마련에 기여할 수 있을 것으로 기대. "
   ]
  },
  {
   "cell_type": "code",
   "execution_count": 2,
   "metadata": {},
   "outputs": [],
   "source": [
    "import numpy as np\n",
    "import pandas as pd\n",
    "import matplotlib.pyplot as plt\n",
    "import seaborn as sns\n",
    "pd.set_option('display.max_columns',100)\n",
    "pd.set_option('display.max_rows',100)\n",
    "pd.options.display.float_format = '{:,.3f}'.format"
   ]
  },
  {
   "cell_type": "markdown",
   "metadata": {},
   "source": [
    "### 전처리"
   ]
  },
  {
   "cell_type": "code",
   "execution_count": 3,
   "metadata": {},
   "outputs": [
    {
     "data": {
      "text/html": [
       "<div>\n",
       "<style scoped>\n",
       "    .dataframe tbody tr th:only-of-type {\n",
       "        vertical-align: middle;\n",
       "    }\n",
       "\n",
       "    .dataframe tbody tr th {\n",
       "        vertical-align: top;\n",
       "    }\n",
       "\n",
       "    .dataframe thead th {\n",
       "        text-align: right;\n",
       "    }\n",
       "</style>\n",
       "<table border=\"1\" class=\"dataframe\">\n",
       "  <thead>\n",
       "    <tr style=\"text-align: right;\">\n",
       "      <th></th>\n",
       "      <th>job_title</th>\n",
       "      <th>experience_level</th>\n",
       "      <th>employment_type</th>\n",
       "      <th>work_models</th>\n",
       "      <th>work_year</th>\n",
       "      <th>employee_residence</th>\n",
       "      <th>salary</th>\n",
       "      <th>salary_currency</th>\n",
       "      <th>salary_in_usd</th>\n",
       "      <th>company_location</th>\n",
       "      <th>company_size</th>\n",
       "    </tr>\n",
       "  </thead>\n",
       "  <tbody>\n",
       "    <tr>\n",
       "      <th>0</th>\n",
       "      <td>Data Engineer</td>\n",
       "      <td>Mid-level</td>\n",
       "      <td>Full-time</td>\n",
       "      <td>Remote</td>\n",
       "      <td>2024</td>\n",
       "      <td>United States</td>\n",
       "      <td>148100</td>\n",
       "      <td>USD</td>\n",
       "      <td>148100</td>\n",
       "      <td>United States</td>\n",
       "      <td>Medium</td>\n",
       "    </tr>\n",
       "    <tr>\n",
       "      <th>1</th>\n",
       "      <td>Data Engineer</td>\n",
       "      <td>Mid-level</td>\n",
       "      <td>Full-time</td>\n",
       "      <td>Remote</td>\n",
       "      <td>2024</td>\n",
       "      <td>United States</td>\n",
       "      <td>98700</td>\n",
       "      <td>USD</td>\n",
       "      <td>98700</td>\n",
       "      <td>United States</td>\n",
       "      <td>Medium</td>\n",
       "    </tr>\n",
       "    <tr>\n",
       "      <th>2</th>\n",
       "      <td>Data Scientist</td>\n",
       "      <td>Senior-level</td>\n",
       "      <td>Full-time</td>\n",
       "      <td>Remote</td>\n",
       "      <td>2024</td>\n",
       "      <td>United States</td>\n",
       "      <td>140032</td>\n",
       "      <td>USD</td>\n",
       "      <td>140032</td>\n",
       "      <td>United States</td>\n",
       "      <td>Medium</td>\n",
       "    </tr>\n",
       "    <tr>\n",
       "      <th>3</th>\n",
       "      <td>Data Scientist</td>\n",
       "      <td>Senior-level</td>\n",
       "      <td>Full-time</td>\n",
       "      <td>Remote</td>\n",
       "      <td>2024</td>\n",
       "      <td>United States</td>\n",
       "      <td>100022</td>\n",
       "      <td>USD</td>\n",
       "      <td>100022</td>\n",
       "      <td>United States</td>\n",
       "      <td>Medium</td>\n",
       "    </tr>\n",
       "    <tr>\n",
       "      <th>4</th>\n",
       "      <td>BI Developer</td>\n",
       "      <td>Mid-level</td>\n",
       "      <td>Full-time</td>\n",
       "      <td>On-site</td>\n",
       "      <td>2024</td>\n",
       "      <td>United States</td>\n",
       "      <td>120000</td>\n",
       "      <td>USD</td>\n",
       "      <td>120000</td>\n",
       "      <td>United States</td>\n",
       "      <td>Medium</td>\n",
       "    </tr>\n",
       "    <tr>\n",
       "      <th>...</th>\n",
       "      <td>...</td>\n",
       "      <td>...</td>\n",
       "      <td>...</td>\n",
       "      <td>...</td>\n",
       "      <td>...</td>\n",
       "      <td>...</td>\n",
       "      <td>...</td>\n",
       "      <td>...</td>\n",
       "      <td>...</td>\n",
       "      <td>...</td>\n",
       "      <td>...</td>\n",
       "    </tr>\n",
       "    <tr>\n",
       "      <th>6594</th>\n",
       "      <td>Staff Data Analyst</td>\n",
       "      <td>Entry-level</td>\n",
       "      <td>Contract</td>\n",
       "      <td>Hybrid</td>\n",
       "      <td>2020</td>\n",
       "      <td>Canada</td>\n",
       "      <td>60000</td>\n",
       "      <td>CAD</td>\n",
       "      <td>44753</td>\n",
       "      <td>Canada</td>\n",
       "      <td>Large</td>\n",
       "    </tr>\n",
       "    <tr>\n",
       "      <th>6595</th>\n",
       "      <td>Staff Data Analyst</td>\n",
       "      <td>Executive-level</td>\n",
       "      <td>Full-time</td>\n",
       "      <td>On-site</td>\n",
       "      <td>2020</td>\n",
       "      <td>Nigeria</td>\n",
       "      <td>15000</td>\n",
       "      <td>USD</td>\n",
       "      <td>15000</td>\n",
       "      <td>Canada</td>\n",
       "      <td>Medium</td>\n",
       "    </tr>\n",
       "    <tr>\n",
       "      <th>6596</th>\n",
       "      <td>Machine Learning Manager</td>\n",
       "      <td>Senior-level</td>\n",
       "      <td>Full-time</td>\n",
       "      <td>Hybrid</td>\n",
       "      <td>2020</td>\n",
       "      <td>Canada</td>\n",
       "      <td>157000</td>\n",
       "      <td>CAD</td>\n",
       "      <td>117104</td>\n",
       "      <td>Canada</td>\n",
       "      <td>Large</td>\n",
       "    </tr>\n",
       "    <tr>\n",
       "      <th>6597</th>\n",
       "      <td>Data Engineer</td>\n",
       "      <td>Mid-level</td>\n",
       "      <td>Full-time</td>\n",
       "      <td>Hybrid</td>\n",
       "      <td>2020</td>\n",
       "      <td>Austria</td>\n",
       "      <td>65000</td>\n",
       "      <td>EUR</td>\n",
       "      <td>74130</td>\n",
       "      <td>Austria</td>\n",
       "      <td>Large</td>\n",
       "    </tr>\n",
       "    <tr>\n",
       "      <th>6598</th>\n",
       "      <td>Data Scientist</td>\n",
       "      <td>Senior-level</td>\n",
       "      <td>Full-time</td>\n",
       "      <td>On-site</td>\n",
       "      <td>2020</td>\n",
       "      <td>Austria</td>\n",
       "      <td>80000</td>\n",
       "      <td>EUR</td>\n",
       "      <td>91237</td>\n",
       "      <td>Austria</td>\n",
       "      <td>Small</td>\n",
       "    </tr>\n",
       "  </tbody>\n",
       "</table>\n",
       "<p>6599 rows × 11 columns</p>\n",
       "</div>"
      ],
      "text/plain": [
       "                     job_title experience_level employment_type work_models  \\\n",
       "0                Data Engineer        Mid-level       Full-time      Remote   \n",
       "1                Data Engineer        Mid-level       Full-time      Remote   \n",
       "2               Data Scientist     Senior-level       Full-time      Remote   \n",
       "3               Data Scientist     Senior-level       Full-time      Remote   \n",
       "4                 BI Developer        Mid-level       Full-time     On-site   \n",
       "...                        ...              ...             ...         ...   \n",
       "6594        Staff Data Analyst      Entry-level        Contract      Hybrid   \n",
       "6595        Staff Data Analyst  Executive-level       Full-time     On-site   \n",
       "6596  Machine Learning Manager     Senior-level       Full-time      Hybrid   \n",
       "6597             Data Engineer        Mid-level       Full-time      Hybrid   \n",
       "6598            Data Scientist     Senior-level       Full-time     On-site   \n",
       "\n",
       "      work_year employee_residence  salary salary_currency  salary_in_usd  \\\n",
       "0          2024      United States  148100             USD         148100   \n",
       "1          2024      United States   98700             USD          98700   \n",
       "2          2024      United States  140032             USD         140032   \n",
       "3          2024      United States  100022             USD         100022   \n",
       "4          2024      United States  120000             USD         120000   \n",
       "...         ...                ...     ...             ...            ...   \n",
       "6594       2020             Canada   60000             CAD          44753   \n",
       "6595       2020            Nigeria   15000             USD          15000   \n",
       "6596       2020             Canada  157000             CAD         117104   \n",
       "6597       2020            Austria   65000             EUR          74130   \n",
       "6598       2020            Austria   80000             EUR          91237   \n",
       "\n",
       "     company_location company_size  \n",
       "0       United States       Medium  \n",
       "1       United States       Medium  \n",
       "2       United States       Medium  \n",
       "3       United States       Medium  \n",
       "4       United States       Medium  \n",
       "...               ...          ...  \n",
       "6594           Canada        Large  \n",
       "6595           Canada       Medium  \n",
       "6596           Canada        Large  \n",
       "6597          Austria        Large  \n",
       "6598          Austria        Small  \n",
       "\n",
       "[6599 rows x 11 columns]"
      ]
     },
     "execution_count": 3,
     "metadata": {},
     "output_type": "execute_result"
    }
   ],
   "source": [
    "df = pd.read_csv('./data_science_salaries.csv')\n",
    "df"
   ]
  },
  {
   "cell_type": "code",
   "execution_count": 4,
   "metadata": {},
   "outputs": [
    {
     "data": {
      "text/plain": [
       "(6599, 11)"
      ]
     },
     "execution_count": 4,
     "metadata": {},
     "output_type": "execute_result"
    }
   ],
   "source": [
    "df.shape"
   ]
  },
  {
   "cell_type": "code",
   "execution_count": 5,
   "metadata": {},
   "outputs": [
    {
     "name": "stdout",
     "output_type": "stream",
     "text": [
      "<class 'pandas.core.frame.DataFrame'>\n",
      "RangeIndex: 6599 entries, 0 to 6598\n",
      "Data columns (total 11 columns):\n",
      " #   Column              Non-Null Count  Dtype \n",
      "---  ------              --------------  ----- \n",
      " 0   job_title           6599 non-null   object\n",
      " 1   experience_level    6599 non-null   object\n",
      " 2   employment_type     6599 non-null   object\n",
      " 3   work_models         6599 non-null   object\n",
      " 4   work_year           6599 non-null   int64 \n",
      " 5   employee_residence  6599 non-null   object\n",
      " 6   salary              6599 non-null   int64 \n",
      " 7   salary_currency     6599 non-null   object\n",
      " 8   salary_in_usd       6599 non-null   int64 \n",
      " 9   company_location    6599 non-null   object\n",
      " 10  company_size        6599 non-null   object\n",
      "dtypes: int64(3), object(8)\n",
      "memory usage: 567.2+ KB\n"
     ]
    }
   ],
   "source": [
    "df.info()"
   ]
  },
  {
   "cell_type": "code",
   "execution_count": 6,
   "metadata": {},
   "outputs": [
    {
     "data": {
      "text/plain": [
       "job_title             0\n",
       "experience_level      0\n",
       "employment_type       0\n",
       "work_models           0\n",
       "work_year             0\n",
       "employee_residence    0\n",
       "salary                0\n",
       "salary_currency       0\n",
       "salary_in_usd         0\n",
       "company_location      0\n",
       "company_size          0\n",
       "dtype: int64"
      ]
     },
     "execution_count": 6,
     "metadata": {},
     "output_type": "execute_result"
    }
   ],
   "source": [
    "df.isnull().sum()\n",
    "\n",
    "# 결측치 없음"
   ]
  },
  {
   "cell_type": "code",
   "execution_count": 7,
   "metadata": {},
   "outputs": [
    {
     "data": {
      "text/html": [
       "<div>\n",
       "<style scoped>\n",
       "    .dataframe tbody tr th:only-of-type {\n",
       "        vertical-align: middle;\n",
       "    }\n",
       "\n",
       "    .dataframe tbody tr th {\n",
       "        vertical-align: top;\n",
       "    }\n",
       "\n",
       "    .dataframe thead th {\n",
       "        text-align: right;\n",
       "    }\n",
       "</style>\n",
       "<table border=\"1\" class=\"dataframe\">\n",
       "  <thead>\n",
       "    <tr style=\"text-align: right;\">\n",
       "      <th></th>\n",
       "      <th>work_year</th>\n",
       "      <th>salary</th>\n",
       "      <th>salary_in_usd</th>\n",
       "    </tr>\n",
       "  </thead>\n",
       "  <tbody>\n",
       "    <tr>\n",
       "      <th>count</th>\n",
       "      <td>6,599.000</td>\n",
       "      <td>6,599.000</td>\n",
       "      <td>6,599.000</td>\n",
       "    </tr>\n",
       "    <tr>\n",
       "      <th>mean</th>\n",
       "      <td>2,022.818</td>\n",
       "      <td>179,283.255</td>\n",
       "      <td>145,560.559</td>\n",
       "    </tr>\n",
       "    <tr>\n",
       "      <th>std</th>\n",
       "      <td>0.675</td>\n",
       "      <td>526,372.242</td>\n",
       "      <td>70,946.838</td>\n",
       "    </tr>\n",
       "    <tr>\n",
       "      <th>min</th>\n",
       "      <td>2,020.000</td>\n",
       "      <td>14,000.000</td>\n",
       "      <td>15,000.000</td>\n",
       "    </tr>\n",
       "    <tr>\n",
       "      <th>25%</th>\n",
       "      <td>2,023.000</td>\n",
       "      <td>96,000.000</td>\n",
       "      <td>95,000.000</td>\n",
       "    </tr>\n",
       "    <tr>\n",
       "      <th>50%</th>\n",
       "      <td>2,023.000</td>\n",
       "      <td>140,000.000</td>\n",
       "      <td>138,666.000</td>\n",
       "    </tr>\n",
       "    <tr>\n",
       "      <th>75%</th>\n",
       "      <td>2,023.000</td>\n",
       "      <td>187,500.000</td>\n",
       "      <td>185,000.000</td>\n",
       "    </tr>\n",
       "    <tr>\n",
       "      <th>max</th>\n",
       "      <td>2,024.000</td>\n",
       "      <td>30,400,000.000</td>\n",
       "      <td>750,000.000</td>\n",
       "    </tr>\n",
       "  </tbody>\n",
       "</table>\n",
       "</div>"
      ],
      "text/plain": [
       "       work_year         salary  salary_in_usd\n",
       "count  6,599.000      6,599.000      6,599.000\n",
       "mean   2,022.818    179,283.255    145,560.559\n",
       "std        0.675    526,372.242     70,946.838\n",
       "min    2,020.000     14,000.000     15,000.000\n",
       "25%    2,023.000     96,000.000     95,000.000\n",
       "50%    2,023.000    140,000.000    138,666.000\n",
       "75%    2,023.000    187,500.000    185,000.000\n",
       "max    2,024.000 30,400,000.000    750,000.000"
      ]
     },
     "execution_count": 7,
     "metadata": {},
     "output_type": "execute_result"
    }
   ],
   "source": [
    "df.describe()\n",
    "\n",
    "# salary MAX값이 이상치 아닌지 의심"
   ]
  },
  {
   "cell_type": "code",
   "execution_count": 8,
   "metadata": {},
   "outputs": [
    {
     "data": {
      "text/html": [
       "<div>\n",
       "<style scoped>\n",
       "    .dataframe tbody tr th:only-of-type {\n",
       "        vertical-align: middle;\n",
       "    }\n",
       "\n",
       "    .dataframe tbody tr th {\n",
       "        vertical-align: top;\n",
       "    }\n",
       "\n",
       "    .dataframe thead th {\n",
       "        text-align: right;\n",
       "    }\n",
       "</style>\n",
       "<table border=\"1\" class=\"dataframe\">\n",
       "  <thead>\n",
       "    <tr style=\"text-align: right;\">\n",
       "      <th></th>\n",
       "      <th>job_title</th>\n",
       "      <th>experience_level</th>\n",
       "      <th>employment_type</th>\n",
       "      <th>work_models</th>\n",
       "      <th>work_year</th>\n",
       "      <th>employee_residence</th>\n",
       "      <th>salary</th>\n",
       "      <th>salary_currency</th>\n",
       "      <th>salary_in_usd</th>\n",
       "      <th>company_location</th>\n",
       "      <th>company_size</th>\n",
       "    </tr>\n",
       "  </thead>\n",
       "  <tbody>\n",
       "    <tr>\n",
       "      <th>1540</th>\n",
       "      <td>Data Engineer</td>\n",
       "      <td>Mid-level</td>\n",
       "      <td>Full-time</td>\n",
       "      <td>On-site</td>\n",
       "      <td>2023</td>\n",
       "      <td>United States</td>\n",
       "      <td>750000</td>\n",
       "      <td>USD</td>\n",
       "      <td>750000</td>\n",
       "      <td>United States</td>\n",
       "      <td>Medium</td>\n",
       "    </tr>\n",
       "    <tr>\n",
       "      <th>296</th>\n",
       "      <td>Machine Learning Scientist</td>\n",
       "      <td>Mid-level</td>\n",
       "      <td>Full-time</td>\n",
       "      <td>On-site</td>\n",
       "      <td>2024</td>\n",
       "      <td>United States</td>\n",
       "      <td>750000</td>\n",
       "      <td>USD</td>\n",
       "      <td>750000</td>\n",
       "      <td>United States</td>\n",
       "      <td>Medium</td>\n",
       "    </tr>\n",
       "    <tr>\n",
       "      <th>1611</th>\n",
       "      <td>Data Scientist</td>\n",
       "      <td>Senior-level</td>\n",
       "      <td>Full-time</td>\n",
       "      <td>On-site</td>\n",
       "      <td>2023</td>\n",
       "      <td>United States</td>\n",
       "      <td>750000</td>\n",
       "      <td>USD</td>\n",
       "      <td>750000</td>\n",
       "      <td>United States</td>\n",
       "      <td>Medium</td>\n",
       "    </tr>\n",
       "    <tr>\n",
       "      <th>848</th>\n",
       "      <td>Machine Learning Scientist</td>\n",
       "      <td>Mid-level</td>\n",
       "      <td>Full-time</td>\n",
       "      <td>On-site</td>\n",
       "      <td>2023</td>\n",
       "      <td>United States</td>\n",
       "      <td>750000</td>\n",
       "      <td>USD</td>\n",
       "      <td>750000</td>\n",
       "      <td>United States</td>\n",
       "      <td>Medium</td>\n",
       "    </tr>\n",
       "    <tr>\n",
       "      <th>852</th>\n",
       "      <td>Machine Learning Engineer</td>\n",
       "      <td>Mid-level</td>\n",
       "      <td>Full-time</td>\n",
       "      <td>On-site</td>\n",
       "      <td>2023</td>\n",
       "      <td>United States</td>\n",
       "      <td>750000</td>\n",
       "      <td>USD</td>\n",
       "      <td>750000</td>\n",
       "      <td>United States</td>\n",
       "      <td>Medium</td>\n",
       "    </tr>\n",
       "    <tr>\n",
       "      <th>329</th>\n",
       "      <td>Research Scientist</td>\n",
       "      <td>Mid-level</td>\n",
       "      <td>Full-time</td>\n",
       "      <td>On-site</td>\n",
       "      <td>2024</td>\n",
       "      <td>United States</td>\n",
       "      <td>720000</td>\n",
       "      <td>USD</td>\n",
       "      <td>720000</td>\n",
       "      <td>United States</td>\n",
       "      <td>Medium</td>\n",
       "    </tr>\n",
       "    <tr>\n",
       "      <th>321</th>\n",
       "      <td>Research Engineer</td>\n",
       "      <td>Mid-level</td>\n",
       "      <td>Full-time</td>\n",
       "      <td>On-site</td>\n",
       "      <td>2024</td>\n",
       "      <td>United States</td>\n",
       "      <td>720000</td>\n",
       "      <td>USD</td>\n",
       "      <td>720000</td>\n",
       "      <td>United States</td>\n",
       "      <td>Medium</td>\n",
       "    </tr>\n",
       "    <tr>\n",
       "      <th>1509</th>\n",
       "      <td>Analytics Engineer</td>\n",
       "      <td>Mid-level</td>\n",
       "      <td>Full-time</td>\n",
       "      <td>Remote</td>\n",
       "      <td>2023</td>\n",
       "      <td>United States</td>\n",
       "      <td>700000</td>\n",
       "      <td>USD</td>\n",
       "      <td>700000</td>\n",
       "      <td>United States</td>\n",
       "      <td>Medium</td>\n",
       "    </tr>\n",
       "    <tr>\n",
       "      <th>1095</th>\n",
       "      <td>Analytics Engineer</td>\n",
       "      <td>Senior-level</td>\n",
       "      <td>Full-time</td>\n",
       "      <td>Remote</td>\n",
       "      <td>2023</td>\n",
       "      <td>United States</td>\n",
       "      <td>700000</td>\n",
       "      <td>USD</td>\n",
       "      <td>700000</td>\n",
       "      <td>United States</td>\n",
       "      <td>Medium</td>\n",
       "    </tr>\n",
       "    <tr>\n",
       "      <th>1354</th>\n",
       "      <td>Data Engineer</td>\n",
       "      <td>Executive-level</td>\n",
       "      <td>Full-time</td>\n",
       "      <td>On-site</td>\n",
       "      <td>2023</td>\n",
       "      <td>United States</td>\n",
       "      <td>465000</td>\n",
       "      <td>USD</td>\n",
       "      <td>465000</td>\n",
       "      <td>United States</td>\n",
       "      <td>Medium</td>\n",
       "    </tr>\n",
       "  </tbody>\n",
       "</table>\n",
       "</div>"
      ],
      "text/plain": [
       "                       job_title experience_level employment_type work_models  \\\n",
       "1540               Data Engineer        Mid-level       Full-time     On-site   \n",
       "296   Machine Learning Scientist        Mid-level       Full-time     On-site   \n",
       "1611              Data Scientist     Senior-level       Full-time     On-site   \n",
       "848   Machine Learning Scientist        Mid-level       Full-time     On-site   \n",
       "852    Machine Learning Engineer        Mid-level       Full-time     On-site   \n",
       "329           Research Scientist        Mid-level       Full-time     On-site   \n",
       "321            Research Engineer        Mid-level       Full-time     On-site   \n",
       "1509          Analytics Engineer        Mid-level       Full-time      Remote   \n",
       "1095          Analytics Engineer     Senior-level       Full-time      Remote   \n",
       "1354               Data Engineer  Executive-level       Full-time     On-site   \n",
       "\n",
       "      work_year employee_residence  salary salary_currency  salary_in_usd  \\\n",
       "1540       2023      United States  750000             USD         750000   \n",
       "296        2024      United States  750000             USD         750000   \n",
       "1611       2023      United States  750000             USD         750000   \n",
       "848        2023      United States  750000             USD         750000   \n",
       "852        2023      United States  750000             USD         750000   \n",
       "329        2024      United States  720000             USD         720000   \n",
       "321        2024      United States  720000             USD         720000   \n",
       "1509       2023      United States  700000             USD         700000   \n",
       "1095       2023      United States  700000             USD         700000   \n",
       "1354       2023      United States  465000             USD         465000   \n",
       "\n",
       "     company_location company_size  \n",
       "1540    United States       Medium  \n",
       "296     United States       Medium  \n",
       "1611    United States       Medium  \n",
       "848     United States       Medium  \n",
       "852     United States       Medium  \n",
       "329     United States       Medium  \n",
       "321     United States       Medium  \n",
       "1509    United States       Medium  \n",
       "1095    United States       Medium  \n",
       "1354    United States       Medium  "
      ]
     },
     "execution_count": 8,
     "metadata": {},
     "output_type": "execute_result"
    }
   ],
   "source": [
    "df.sort_values(by= 'salary_in_usd',ascending=False).head(10)\n",
    "# 상위 아홉명만 70만 달러 이상의 급여를 받음. 이상치로 판단-제거."
   ]
  },
  {
   "cell_type": "code",
   "execution_count": 9,
   "metadata": {},
   "outputs": [],
   "source": [
    "df = df[df['salary_in_usd']<600000]"
   ]
  },
  {
   "cell_type": "markdown",
   "metadata": {},
   "source": [
    "## EDA"
   ]
  },
  {
   "cell_type": "markdown",
   "metadata": {},
   "source": [
    "- 직업별 급여 비교"
   ]
  },
  {
   "cell_type": "code",
   "execution_count": 10,
   "metadata": {},
   "outputs": [],
   "source": [
    "# 단순 직업별 급여 비교 \n",
    "\n",
    "job_title = df['job_title'].unique()\n",
    "job_tile_tot_sal = df.groupby('job_title')['salary'].sum().sort_values(ascending=False)"
   ]
  },
  {
   "cell_type": "code",
   "execution_count": 11,
   "metadata": {},
   "outputs": [
    {
     "data": {
      "image/png": "[encoded data removed]",
      "text/plain": [
       "<Figure size 800x600 with 1 Axes>"
      ]
     },
     "metadata": {},
     "output_type": "display_data"
    }
   ],
   "source": [
    "# 연속 변수의 분포를 확인\n",
    "plt.figure(figsize=(8, 6))\n",
    "sns.histplot(df['salary_in_usd'], kde=True)\n",
    "plt.title('Salary Distribution')\n",
    "plt.xlabel('Salary in USD')\n",
    "plt.ylabel('Frequency')\n",
    "plt.show()\n"
   ]
  },
  {
   "cell_type": "code",
   "execution_count": 12,
   "metadata": {},
   "outputs": [
    {
     "data": {
      "image/png": "[encoded data removed]",
      "text/plain": [
       "<Figure size 800x600 with 1 Axes>"
      ]
     },
     "metadata": {},
     "output_type": "display_data"
    }
   ],
   "source": [
    "# 범주형 변수의 빈도수를 확인\n",
    "plt.figure(figsize=(8, 6))\n",
    "sns.countplot(x='employment_type', data=df)\n",
    "plt.title('Employment Type Frequency')\n",
    "plt.xlabel('Employment Type')\n",
    "plt.ylabel('Count')\n",
    "plt.xticks(rotation=45)\n",
    "plt.show()\n",
    "# full-time 근무자의 응답비율이 절대다수임을 확인"
   ]
  },
  {
   "cell_type": "code",
   "execution_count": 13,
   "metadata": {},
   "outputs": [
    {
     "data": {
      "image/png": "[encoded data removed]",
      "text/plain": [
       "<Figure size 800x600 with 1 Axes>"
      ]
     },
     "metadata": {},
     "output_type": "display_data"
    }
   ],
   "source": [
    "plt.figure(figsize=(8,6))\n",
    "sns.countplot(x='work_models',data=df)\n",
    "plt.title('Work-Models Type Frequency')\n",
    "plt.xlabel('Work Model Type')\n",
    "plt.ylabel('Count')\n",
    "plt.show()\n",
    "#혼합형태의 근무는 숫자가 거의 없음. "
   ]
  },
  {
   "cell_type": "code",
   "execution_count": 14,
   "metadata": {},
   "outputs": [],
   "source": [
    "# 연속 변수 간의 상관 관계를 확인\n",
    "# 버전의 문제인지 char값은 correlation 을 구할 수 없어서 정수로 치환단계 거침\n",
    "\n",
    "df['experience_level'].unique()\n",
    "df_corr = df.copy()\n",
    "# EDA를 위해 숫자형으로 치환 필요(entry =1 ~ executive = 4)"
   ]
  },
  {
   "cell_type": "code",
   "execution_count": 15,
   "metadata": {},
   "outputs": [],
   "source": [
    "df_corr['experience_level'] = df_corr['experience_level'].replace({\n",
    "    'Entry-level': 1\n",
    "    ,'Mid-level':2\n",
    "    ,'Senior-level':3\n",
    "    ,'Executive-level':4\n",
    "})"
   ]
  },
  {
   "cell_type": "code",
   "execution_count": 16,
   "metadata": {},
   "outputs": [
    {
     "data": {
      "text/plain": [
       "array(['Full-time', 'Part-time', 'Contract', 'Freelance'], dtype=object)"
      ]
     },
     "execution_count": 16,
     "metadata": {},
     "output_type": "execute_result"
    }
   ],
   "source": [
    "df_corr['employment_type'].unique()\n",
    "# employment_type 1->full-time, 2->part-time, 3->Contract, 4->Freelance "
   ]
  },
  {
   "cell_type": "code",
   "execution_count": 17,
   "metadata": {},
   "outputs": [],
   "source": [
    "df_corr['employment_type'] = df_corr['employment_type'].replace({\n",
    "    'Full-time': 1\n",
    "    ,'Part-time':2\n",
    "    ,'Contract':3\n",
    "    ,'Freelance':4\n",
    "})"
   ]
  },
  {
   "cell_type": "code",
   "execution_count": 18,
   "metadata": {},
   "outputs": [
    {
     "data": {
      "text/plain": [
       "array(['Remote', 'On-site', 'Hybrid'], dtype=object)"
      ]
     },
     "execution_count": 18,
     "metadata": {},
     "output_type": "execute_result"
    }
   ],
   "source": [
    "df_corr['work_models'].unique()\n",
    "# Remote -> 1 , On-site -> 2, Hybrid -> 3"
   ]
  },
  {
   "cell_type": "code",
   "execution_count": 19,
   "metadata": {},
   "outputs": [],
   "source": [
    "df_corr['work_models'] = df_corr['work_models'].replace({\n",
    "    'Remote': 1\n",
    "    ,'On-site':2\n",
    "    ,'Hybrid':3\n",
    "})"
   ]
  },
  {
   "cell_type": "code",
   "execution_count": 20,
   "metadata": {},
   "outputs": [
    {
     "data": {
      "text/plain": [
       "array(['United States', 'Romania', 'Portugal', 'Lebanon', 'India',\n",
       "       'Ireland', 'United Kingdom', 'Spain', 'Egypt', 'Germany', 'Canada',\n",
       "       'Australia', 'Vietnam', 'Uganda', 'Italy', 'Thailand',\n",
       "       'Philippines', 'Tunisia', 'Belgium', 'Turkey', 'Nigeria',\n",
       "       'Uzbekistan', 'Argentina', 'France', 'Kuwait', 'Ukraine',\n",
       "       'South Africa', 'Slovenia', 'Singapore', 'Sweden', 'Saudi Arabia',\n",
       "       'Armenia', 'Russia', 'Georgia', 'Qatar', 'Peru', 'Poland',\n",
       "       'New Zealand', 'Norway', 'Netherlands', 'Mexico', 'Latvia',\n",
       "       'Pakistan', 'Lithuania', 'South Korea', 'Kenya', 'Moldova',\n",
       "       'Israel', 'Hungary', 'Croatia', 'Hong Kong', 'Greece', 'Ghana',\n",
       "       'Finland', 'Estonia', 'Cyprus', 'Ecuador', 'Austria', 'Colombia',\n",
       "       'Switzerland', 'Central African Republic', 'Czech Republic',\n",
       "       'Brazil', 'Bosnia and Herzegovina', 'Andorra', 'China',\n",
       "       'Costa Rica', 'Chile', 'Bolivia', 'Malaysia',\n",
       "       'United Arab Emirates', 'Puerto Rico', 'Japan', 'Iran',\n",
       "       'Indonesia', 'Dominican Republic', 'Algeria', 'Bulgaria', 'Malta',\n",
       "       'Luxembourg', 'Iraq', 'Denmark', 'Serbia', 'Jersey',\n",
       "       'American Samoa', 'Mauritius', 'Honduras'], dtype=object)"
      ]
     },
     "execution_count": 20,
     "metadata": {},
     "output_type": "execute_result"
    }
   ],
   "source": [
    "df_corr['employee_residence'].unique()\n",
    "# 너무 많은 유니크가 존재"
   ]
  },
  {
   "cell_type": "code",
   "execution_count": 21,
   "metadata": {},
   "outputs": [
    {
     "data": {
      "text/plain": [
       "array(['Medium', 'Large', 'Small'], dtype=object)"
      ]
     },
     "execution_count": 21,
     "metadata": {},
     "output_type": "execute_result"
    }
   ],
   "source": [
    "df_corr['company_size'].unique()\n",
    "# small -> 1 , mediun -> 2, large -> 3"
   ]
  },
  {
   "cell_type": "code",
   "execution_count": 22,
   "metadata": {},
   "outputs": [],
   "source": [
    "df_corr['company_size'] = df_corr['company_size'].replace({\n",
    "    'Small': 1\n",
    "    ,'Medium':2\n",
    "    ,'Large':3\n",
    "})"
   ]
  },
  {
   "cell_type": "code",
   "execution_count": 23,
   "metadata": {},
   "outputs": [],
   "source": [
    "# job_title, employee_residence, salary, salary_currency는 유니크 개수가 많고, 일부는 상관관계에 무의미하다고 판단. \n",
    "df_corr.drop(['job_title','employee_residence','salary','salary_currency','company_location'], axis=1,inplace=True)"
   ]
  },
  {
   "cell_type": "code",
   "execution_count": 24,
   "metadata": {},
   "outputs": [
    {
     "name": "stdout",
     "output_type": "stream",
     "text": [
      "<class 'pandas.core.frame.DataFrame'>\n",
      "Index: 6590 entries, 0 to 6598\n",
      "Data columns (total 6 columns):\n",
      " #   Column            Non-Null Count  Dtype\n",
      "---  ------            --------------  -----\n",
      " 0   experience_level  6590 non-null   int64\n",
      " 1   employment_type   6590 non-null   int64\n",
      " 2   work_models       6590 non-null   int64\n",
      " 3   work_year         6590 non-null   int64\n",
      " 4   salary_in_usd     6590 non-null   int64\n",
      " 5   company_size      6590 non-null   int64\n",
      "dtypes: int64(6)\n",
      "memory usage: 360.4 KB\n"
     ]
    }
   ],
   "source": [
    "df_corr.info()"
   ]
  },
  {
   "cell_type": "code",
   "execution_count": 25,
   "metadata": {},
   "outputs": [
    {
     "data": {
      "image/png": "[encoded data removed]",
      "text/plain": [
       "<Figure size 1000x800 with 2 Axes>"
      ]
     },
     "metadata": {},
     "output_type": "display_data"
    }
   ],
   "source": [
    "\n",
    "plt.figure(figsize=(10, 8))\n",
    "sns.heatmap(df_corr.corr(), annot=True, cmap='coolwarm')\n",
    "plt.title('Correlation Matrix')\n",
    "plt.show()\n",
    "# 급여와 가장 상관관계에 있는것은 experience_level이다. \n"
   ]
  },
  {
   "cell_type": "code",
   "execution_count": 26,
   "metadata": {},
   "outputs": [
    {
     "data": {
      "image/png": "[encoded data removed]",
      "text/plain": [
       "<Figure size 1000x800 with 1 Axes>"
      ]
     },
     "metadata": {},
     "output_type": "display_data"
    }
   ],
   "source": [
    "# 범주형 변수와 연속 변수 사이의 관계를 확인\n",
    "plt.figure(figsize=(10, 8))\n",
    "sns.boxplot(x='employment_type', y='salary_in_usd', data=df)\n",
    "plt.title('Salary by Employment Type')\n",
    "plt.xlabel('Employment Type')\n",
    "plt.ylabel('Salary in USD')\n",
    "plt.xticks(rotation=45)\n",
    "plt.show()\n",
    "# 70만 달러 이상은 이상치로 판단"
   ]
  },
  {
   "cell_type": "code",
   "execution_count": 49,
   "metadata": {},
   "outputs": [
    {
     "data": {
      "image/png": "[encoded data removed]",
      "text/plain": [
       "<Figure size 1000x800 with 1 Axes>"
      ]
     },
     "metadata": {},
     "output_type": "display_data"
    }
   ],
   "source": [
    "\n",
    "plt.figure(figsize=(10, 8))\n",
    "sns.boxplot(x='work_models', y='salary_in_usd', data=df)\n",
    "plt.title('Salary by Employment Type')\n",
    "plt.xlabel('Employment Type')\n",
    "plt.ylabel('Salary in USD')\n",
    "plt.xticks(rotation=45)\n",
    "plt.show()\n"
   ]
  },
  {
   "cell_type": "code",
   "execution_count": 27,
   "metadata": {},
   "outputs": [
    {
     "data": {
      "image/png": "[encoded data removed]",
      "text/plain": [
       "<Figure size 1000x800 with 1 Axes>"
      ]
     },
     "metadata": {},
     "output_type": "display_data"
    }
   ],
   "source": [
    "# 연도별 평균 연봉의 변화를 시각화\n",
    "plt.figure(figsize=(10, 8))\n",
    "sns.lineplot(x='work_year', y='salary_in_usd', data=df, estimator=np.mean)\n",
    "plt.title('Average Salary Over Years')\n",
    "plt.xlabel('Year')\n",
    "plt.ylabel('Average Salary in USD')\n",
    "plt.show()\n",
    "# 21~23년도 사이에 데이터직군 연봉의 급상승을 확인"
   ]
  },
  {
   "cell_type": "code",
   "execution_count": 28,
   "metadata": {},
   "outputs": [
    {
     "name": "stdout",
     "output_type": "stream",
     "text": [
      "<class 'pandas.core.frame.DataFrame'>\n",
      "Index: 6590 entries, 0 to 6598\n",
      "Data columns (total 11 columns):\n",
      " #   Column              Non-Null Count  Dtype \n",
      "---  ------              --------------  ----- \n",
      " 0   job_title           6590 non-null   object\n",
      " 1   experience_level    6590 non-null   object\n",
      " 2   employment_type     6590 non-null   object\n",
      " 3   work_models         6590 non-null   object\n",
      " 4   work_year           6590 non-null   int64 \n",
      " 5   employee_residence  6590 non-null   object\n",
      " 6   salary              6590 non-null   int64 \n",
      " 7   salary_currency     6590 non-null   object\n",
      " 8   salary_in_usd       6590 non-null   int64 \n",
      " 9   company_location    6590 non-null   object\n",
      " 10  company_size        6590 non-null   object\n",
      "dtypes: int64(3), object(8)\n",
      "memory usage: 617.8+ KB\n"
     ]
    }
   ],
   "source": [
    "df.info()"
   ]
  },
  {
   "cell_type": "code",
   "execution_count": 29,
   "metadata": {},
   "outputs": [
    {
     "data": {
      "text/html": [
       "<div>\n",
       "<style scoped>\n",
       "    .dataframe tbody tr th:only-of-type {\n",
       "        vertical-align: middle;\n",
       "    }\n",
       "\n",
       "    .dataframe tbody tr th {\n",
       "        vertical-align: top;\n",
       "    }\n",
       "\n",
       "    .dataframe thead th {\n",
       "        text-align: right;\n",
       "    }\n",
       "</style>\n",
       "<table border=\"1\" class=\"dataframe\">\n",
       "  <thead>\n",
       "    <tr style=\"text-align: right;\">\n",
       "      <th></th>\n",
       "      <th>work_year</th>\n",
       "      <th>salary</th>\n",
       "      <th>salary_in_usd</th>\n",
       "    </tr>\n",
       "    <tr>\n",
       "      <th>job_title</th>\n",
       "      <th></th>\n",
       "      <th></th>\n",
       "      <th></th>\n",
       "    </tr>\n",
       "  </thead>\n",
       "  <tbody>\n",
       "    <tr>\n",
       "      <th>Data Engineer</th>\n",
       "      <td>2641755</td>\n",
       "      <td>200043179</td>\n",
       "      <td>188163388</td>\n",
       "    </tr>\n",
       "    <tr>\n",
       "      <th>Data Scientist</th>\n",
       "      <td>2512281</td>\n",
       "      <td>263337729</td>\n",
       "      <td>184502557</td>\n",
       "    </tr>\n",
       "    <tr>\n",
       "      <th>Machine Learning Engineer</th>\n",
       "      <td>1270383</td>\n",
       "      <td>118547864</td>\n",
       "      <td>110725436</td>\n",
       "    </tr>\n",
       "    <tr>\n",
       "      <th>Data Analyst</th>\n",
       "      <td>1840782</td>\n",
       "      <td>101495030</td>\n",
       "      <td>97307837</td>\n",
       "    </tr>\n",
       "    <tr>\n",
       "      <th>Analytics Engineer</th>\n",
       "      <td>493583</td>\n",
       "      <td>36729304</td>\n",
       "      <td>37058862</td>\n",
       "    </tr>\n",
       "    <tr>\n",
       "      <th>Research Scientist</th>\n",
       "      <td>414694</td>\n",
       "      <td>36336655</td>\n",
       "      <td>36376898</td>\n",
       "    </tr>\n",
       "    <tr>\n",
       "      <th>Data Architect</th>\n",
       "      <td>356028</td>\n",
       "      <td>28820777</td>\n",
       "      <td>28799604</td>\n",
       "    </tr>\n",
       "    <tr>\n",
       "      <th>Research Engineer</th>\n",
       "      <td>273119</td>\n",
       "      <td>29659209</td>\n",
       "      <td>24267241</td>\n",
       "    </tr>\n",
       "    <tr>\n",
       "      <th>ML Engineer</th>\n",
       "      <td>228579</td>\n",
       "      <td>37810195</td>\n",
       "      <td>22399228</td>\n",
       "    </tr>\n",
       "    <tr>\n",
       "      <th>Applied Scientist</th>\n",
       "      <td>196228</td>\n",
       "      <td>18496708</td>\n",
       "      <td>18496708</td>\n",
       "    </tr>\n",
       "  </tbody>\n",
       "</table>\n",
       "</div>"
      ],
      "text/plain": [
       "                           work_year     salary  salary_in_usd\n",
       "job_title                                                     \n",
       "Data Engineer                2641755  200043179      188163388\n",
       "Data Scientist               2512281  263337729      184502557\n",
       "Machine Learning Engineer    1270383  118547864      110725436\n",
       "Data Analyst                 1840782  101495030       97307837\n",
       "Analytics Engineer            493583   36729304       37058862\n",
       "Research Scientist            414694   36336655       36376898\n",
       "Data Architect                356028   28820777       28799604\n",
       "Research Engineer             273119   29659209       24267241\n",
       "ML Engineer                   228579   37810195       22399228\n",
       "Applied Scientist             196228   18496708       18496708"
      ]
     },
     "execution_count": 29,
     "metadata": {},
     "output_type": "execute_result"
    }
   ],
   "source": [
    "# 급여의 합계가 높은 직업 top10 확인\n",
    "df.groupby('job_title').sum('salary_in_usd').sort_values(by='salary_in_usd',ascending=False).head(10)"
   ]
  },
  {
   "cell_type": "code",
   "execution_count": 30,
   "metadata": {},
   "outputs": [
    {
     "data": {
      "text/plain": [
       "job_title\n",
       "Data Engineer                1306\n",
       "Data Scientist               1242\n",
       "Data Analyst                  910\n",
       "Machine Learning Engineer     628\n",
       "Analytics Engineer            244\n",
       "Research Scientist            205\n",
       "Data Architect                176\n",
       "Research Engineer             135\n",
       "ML Engineer                   113\n",
       "Applied Scientist              97\n",
       "Name: count, dtype: int64"
      ]
     },
     "execution_count": 30,
     "metadata": {},
     "output_type": "execute_result"
    }
   ],
   "source": [
    "# 조사한 직업군의 분포가 비슷한지 확인이 필요(차이가 큼)\n",
    "df['job_title'].value_counts().head(10)\n",
    "# 불균형을 확인"
   ]
  },
  {
   "cell_type": "code",
   "execution_count": 31,
   "metadata": {},
   "outputs": [
    {
     "data": {
      "text/plain": [
       "job_title\n",
       "Analytics Engineering Manager    399,880.000\n",
       "Data Science Tech Lead           375,000.000\n",
       "Managing Director Data Science   280,000.000\n",
       "AWS Data Architect               258,000.000\n",
       "Cloud Data Architect             250,000.000\n",
       "AI Architect                     232,058.600\n",
       "Director of Data Science         213,454.387\n",
       "Data Infrastructure Engineer     201,375.417\n",
       "Data Science Director            201,000.000\n",
       "ML Engineer                      198,223.257\n",
       "Name: salary_in_usd, dtype: float64"
      ]
     },
     "execution_count": 31,
     "metadata": {},
     "output_type": "execute_result"
    }
   ],
   "source": [
    "# 평균 급여가 높은 직업 확인 \n",
    "top10_job = df.groupby('job_title')['salary_in_usd'].mean().sort_values(ascending=False).head(10)\n",
    "top10_job\n"
   ]
  },
  {
   "cell_type": "code",
   "execution_count": 32,
   "metadata": {},
   "outputs": [
    {
     "data": {
      "text/plain": [
       "employee_residence\n",
       "United States     5296\n",
       "United Kingdom     401\n",
       "Canada             241\n",
       "Germany             71\n",
       "India               70\n",
       "Name: count, dtype: int64"
      ]
     },
     "execution_count": 32,
     "metadata": {},
     "output_type": "execute_result"
    }
   ],
   "source": [
    "# 나라별 급여 관계 확인\n",
    "df['employee_residence'].value_counts().head()"
   ]
  },
  {
   "cell_type": "code",
   "execution_count": 33,
   "metadata": {},
   "outputs": [
    {
     "data": {
      "text/plain": [
       "company_location\n",
       "United States     5345\n",
       "United Kingdom     408\n",
       "Canada             243\n",
       "Germany             78\n",
       "Spain               63\n",
       "Name: count, dtype: int64"
      ]
     },
     "execution_count": 33,
     "metadata": {},
     "output_type": "execute_result"
    }
   ],
   "source": [
    "df['company_location'].value_counts().head()\n",
    "# 절대다수의 국적 및 회사가 미국에 있는 것을 확인. \n",
    "# 인도 국적의 데이터 업종 종사자가 많음을 확인. \n",
    "# 하지만 위의 자료들은 절대적 지표가 될 수 없는것이, 미국서 실시한 조사이기에 신빙성이 많이 떨어짐. "
   ]
  },
  {
   "cell_type": "code",
   "execution_count": 34,
   "metadata": {},
   "outputs": [
    {
     "data": {
      "text/plain": [
       "company_location\n",
       "Qatar                    300,000.000\n",
       "Israel                   217,332.000\n",
       "Puerto Rico              167,500.000\n",
       "United States            156,104.654\n",
       "New Zealand              151,634.333\n",
       "Canada                   139,832.753\n",
       "Saudi Arabia             134,999.000\n",
       "Ukraine                  121,333.333\n",
       "Bosnia and Herzegovina   120,000.000\n",
       "Australia                114,673.406\n",
       "Name: salary_in_usd, dtype: float64"
      ]
     },
     "execution_count": 34,
     "metadata": {},
     "output_type": "execute_result"
    }
   ],
   "source": [
    "df.groupby('company_location')['salary_in_usd'].mean().sort_values(ascending=False).head(10)"
   ]
  },
  {
   "cell_type": "code",
   "execution_count": 35,
   "metadata": {},
   "outputs": [
    {
     "data": {
      "text/plain": [
       "employee_residence\n",
       "Israel                   417,937.000\n",
       "Qatar                    300,000.000\n",
       "Malaysia                 200,000.000\n",
       "Puerto Rico              166,000.000\n",
       "United States            156,804.737\n",
       "New Zealand              151,634.333\n",
       "Canada                   140,564.884\n",
       "Saudi Arabia             134,999.000\n",
       "China                    125,404.000\n",
       "Bosnia and Herzegovina   120,000.000\n",
       "Name: salary_in_usd, dtype: float64"
      ]
     },
     "execution_count": 35,
     "metadata": {},
     "output_type": "execute_result"
    }
   ],
   "source": [
    "df.groupby('employee_residence')['salary_in_usd'].mean().sort_values(ascending=False).head(10)\n",
    "# 평균 값 또한 모집단이 적으니 신빙성을 확보할 수 없음."
   ]
  },
  {
   "cell_type": "markdown",
   "metadata": {},
   "source": [
    "> EDA 분석\n",
    "- 직책과 급여에 유의미한 상관관계가 존재\n",
    "- 풀타임 근무자들의 급여가 가장 높음\n",
    "- 피고용자의 국적과, 기업의 국적은 데이터의 불균형으로 인해 급여와의 관계파악이 어려움\n",
    "- 직업군에 따른 급여 또한 데이터가 적기에 신뢰성이 부족함"
   ]
  },
  {
   "cell_type": "markdown",
   "metadata": {},
   "source": [
    "## 통계 분석"
   ]
  },
  {
   "cell_type": "markdown",
   "metadata": {},
   "source": [
    "#### 경력에 따른 연봉차이 분석(회귀분석)"
   ]
  },
  {
   "cell_type": "code",
   "execution_count": 36,
   "metadata": {},
   "outputs": [
    {
     "name": "stderr",
     "output_type": "stream",
     "text": [
      "C:\\Users\\user\\AppData\\Local\\Temp\\ipykernel_22804\\92081641.py:7: SettingWithCopyWarning: \n",
      "A value is trying to be set on a copy of a slice from a DataFrame.\n",
      "Try using .loc[row_indexer,col_indexer] = value instead\n",
      "\n",
      "See the caveats in the documentation: https://pandas.pydata.org/pandas-docs/stable/user_guide/indexing.html#returning-a-view-versus-a-copy\n",
      "  df['experience_level_numeric'] = df['experience_level'].replace(experience_levels)\n"
     ]
    }
   ],
   "source": [
    "experience_levels = {\n",
    "    'Entry-level': 1,\n",
    "    'Mid-level': 2,\n",
    "    'Senior-level': 3,\n",
    "    'Executive-level': 4\n",
    "}\n",
    "df['experience_level_numeric'] = df['experience_level'].replace(experience_levels)"
   ]
  },
  {
   "cell_type": "code",
   "execution_count": 37,
   "metadata": {},
   "outputs": [
    {
     "name": "stdout",
     "output_type": "stream",
     "text": [
      "mae_train: 48343.692753428615\n",
      "r2_train: 0.16349624962742815\n",
      "\n",
      "mae_test: 46907.51324220395\n",
      "r2_test: 0.17927693619262253\n",
      "\n",
      "Coefficient:  [39548.33658639]\n",
      "Intercept:  41865.304269323315\n"
     ]
    }
   ],
   "source": [
    "from sklearn.model_selection import train_test_split\n",
    "from sklearn.linear_model import LinearRegression\n",
    "from sklearn.metrics import mean_absolute_error, r2_score\n",
    "\n",
    "# 독립변수(X)와 종속변수(y) 설정\n",
    "X = df[['experience_level_numeric']]  # 독립변수는 2D 배열 형태여야 함\n",
    "y = df['salary_in_usd']\n",
    "\n",
    "# 데이터를 학습 세트와 테스트 세트로 분할\n",
    "X_train, X_test, y_train, y_test = train_test_split(X, y, test_size=0.2)# , random_state=0)\n",
    "\n",
    "# 선형 회귀 모델 생성 및 학습\n",
    "model = LinearRegression()\n",
    "model.fit(X_train, y_train)\n",
    "\n",
    "y_pred_train = model.predict(X_train)\n",
    "y_pred_test = model.predict(X_test)\n",
    "\n",
    "mae_train = mean_absolute_error(y_train, y_pred_train)\n",
    "r2_train = r2_score(y_train, y_pred_train)\n",
    "\n",
    "mae_test = mean_absolute_error(y_test, y_pred_test)\n",
    "r2_test = r2_score(y_test, y_pred_test)\n",
    "\n",
    "print(f'mae_train: {mae_train}')\n",
    "print(f'r2_train: {r2_train}')\n",
    "print('')\n",
    "print(f'mae_test: {mae_test}')\n",
    "print(f'r2_test: {r2_test}')\n",
    "\n",
    "y_pred = model.predict(X_test)\n",
    "print('')\n",
    "print(\"Coefficient: \", model.coef_)\n",
    "print(\"Intercept: \", model.intercept_)"
   ]
  },
  {
   "cell_type": "code",
   "execution_count": 38,
   "metadata": {},
   "outputs": [
    {
     "data": {
      "text/html": [
       "<div>\n",
       "<style scoped>\n",
       "    .dataframe tbody tr th:only-of-type {\n",
       "        vertical-align: middle;\n",
       "    }\n",
       "\n",
       "    .dataframe tbody tr th {\n",
       "        vertical-align: top;\n",
       "    }\n",
       "\n",
       "    .dataframe thead th {\n",
       "        text-align: right;\n",
       "    }\n",
       "</style>\n",
       "<table border=\"1\" class=\"dataframe\">\n",
       "  <thead>\n",
       "    <tr style=\"text-align: right;\">\n",
       "      <th></th>\n",
       "      <th>Real Values</th>\n",
       "      <th>Predicted Values</th>\n",
       "      <th>diff</th>\n",
       "    </tr>\n",
       "  </thead>\n",
       "  <tbody>\n",
       "    <tr>\n",
       "      <th>0</th>\n",
       "      <td>15000</td>\n",
       "      <td>200,058.651</td>\n",
       "      <td>-185,058.651</td>\n",
       "    </tr>\n",
       "    <tr>\n",
       "      <th>1</th>\n",
       "      <td>173000</td>\n",
       "      <td>120,961.977</td>\n",
       "      <td>52,038.023</td>\n",
       "    </tr>\n",
       "    <tr>\n",
       "      <th>2</th>\n",
       "      <td>85000</td>\n",
       "      <td>120,961.977</td>\n",
       "      <td>-35,961.977</td>\n",
       "    </tr>\n",
       "    <tr>\n",
       "      <th>3</th>\n",
       "      <td>193200</td>\n",
       "      <td>160,510.314</td>\n",
       "      <td>32,689.686</td>\n",
       "    </tr>\n",
       "    <tr>\n",
       "      <th>4</th>\n",
       "      <td>172386</td>\n",
       "      <td>120,961.977</td>\n",
       "      <td>51,424.023</td>\n",
       "    </tr>\n",
       "  </tbody>\n",
       "</table>\n",
       "</div>"
      ],
      "text/plain": [
       "   Real Values  Predicted Values         diff\n",
       "0        15000       200,058.651 -185,058.651\n",
       "1       173000       120,961.977   52,038.023\n",
       "2        85000       120,961.977  -35,961.977\n",
       "3       193200       160,510.314   32,689.686\n",
       "4       172386       120,961.977   51,424.023"
      ]
     },
     "execution_count": 38,
     "metadata": {},
     "output_type": "execute_result"
    }
   ],
   "source": [
    "# 예측 모델로서 적합하지 못함을 확인. 데이터의 수가 부족한것으로 판단. \n",
    "\n",
    "df_result = pd.DataFrame({'Real Values':y_test, 'Predicted Values':y_pred_test}).reset_index(drop=True)\n",
    "df_result['diff'] = df_result['Real Values'] - df_result['Predicted Values']\n",
    "df_result.head(5)"
   ]
  },
  {
   "cell_type": "markdown",
   "metadata": {},
   "source": [
    "#### 고용 형태와 급여"
   ]
  },
  {
   "cell_type": "code",
   "execution_count": 40,
   "metadata": {},
   "outputs": [
    {
     "name": "stdout",
     "output_type": "stream",
     "text": [
      "ANOVA 결과:\n",
      "F-value: 18.19520519453403\n",
      "P-value: 9.380302347731634e-12\n",
      "유의미한 차이가 있습니다. (고용 형태에 따른 급여 차이가 통계적으로 유의미함)\n"
     ]
    }
   ],
   "source": [
    "import pandas as pd\n",
    "from scipy import stats\n",
    "\n",
    "# 고용 형태별로 급여 데이터 분류\n",
    "groups = df.groupby('employment_type')['salary_in_usd'].apply(list)\n",
    "\n",
    "# ANOVA 분석 수행\n",
    "anova_result = stats.f_oneway(*groups)\n",
    "\n",
    "# 결과 출력\n",
    "print(\"ANOVA 결과:\")\n",
    "print(\"F-value:\", anova_result.statistic)\n",
    "print(\"P-value:\", anova_result.pvalue)\n",
    "\n",
    "# P-value 해석\n",
    "if anova_result.pvalue < 0.05:\n",
    "    print(\"유의미한 차이가 있습니다. (고용 형태에 따른 급여 차이가 통계적으로 유의미함)\")\n",
    "else:\n",
    "    print(\"유의미한 차이가 없습니다. (고용 형태에 따른 급여 차이가 통계적으로 유의미하지 않음)\")\n"
   ]
  },
  {
   "cell_type": "markdown",
   "metadata": {},
   "source": [
    "One-way ANOVA는 세 개 이상의 독립된 그룹 간의 평균이 통계적으로 유의미한 차이가 있는지를 검정하는 방법입니다. 이 방법은 각 그룹의 데이터가 정규 분포를 따르고, 동일한 분산을 가지며, 독립적인 관측값으로부터 얻어진 경우에 유효합니다."
   ]
  },
  {
   "cell_type": "markdown",
   "metadata": {},
   "source": [
    "반환 값\n",
    "함수는 F-value와 P-value를 포함하는 반환 값(결과 객체)을 제공합니다:\n",
    "\n",
    "- F-value (F 통계량): F-value는 그룹 간 평균 차이의 크기를 나타내는 값입니다. 큰 F-value는 그룹 간 평균 차이가 더 클 가능성을 의미합니다. F-value는 그룹 간 변동성과 그룹 내 변동성의 비율로 계산됩니다. 변동성이 클수록 그룹 간에 유의미한 차이가 있다고 간주됩니다.\n",
    "- P-value: P-value는 관측된 데이터 또는 더 극단적인 데이터가 귀무 가설 하에서 얻어질 확률입니다. 귀무 가설은 모든 그룹의 평균이 동일하다는 가설입니다. 일반적으로, P-value가 0.05 미만이면 귀무 가설을 기각하고 그룹 간에 통계적으로 유의미한 차이가 있다고 결론 내립니다.\n",
    "> 해석\n",
    "- F-value가 크고 P-value가 0.05 미만인 경우: 그룹 간에 통계적으로 유의미한 평균 차이가 있음을 의미합니다. 즉, 적어도 하나의 그룹은 다른 그룹과 평균이 다르다고 할 수 있습니다.\n",
    "- P-value가 0.05 이상인 경우: 그룹 간에 통계적으로 유의미한 평균 차이가 없다는 것을 의미합니다. 즉, 모든 그룹의 평균이 같다는 귀무 가설을 기각할 충분한 근거가 없습니다.\n",
    "- ANOVA는 그룹 간 평균의 차이가 유의미한지만을 알려줄 뿐, 어떤 그룹 간에 차이가 있는지는 구체적으로 알려주지 않습니다. 그룹 간 구체적인 차이를 알아보기 위해서는 사후 검정(post-hoc test)을 수행해야 합니다."
   ]
  },
  {
   "cell_type": "markdown",
   "metadata": {},
   "source": [
    "#### 근무 모델에 따른 급여 차이"
   ]
  },
  {
   "cell_type": "code",
   "execution_count": 42,
   "metadata": {},
   "outputs": [
    {
     "name": "stdout",
     "output_type": "stream",
     "text": [
      "ANOVA 결과:\n",
      "F-value: 122.44524754599323\n",
      "P-value: 6.128813774863704e-53\n",
      "유의미한 차이가 있습니다. (고용 형태에 따른 급여 차이가 통계적으로 유의미함)\n"
     ]
    }
   ],
   "source": [
    "# 고용 형태별로 급여 데이터 분류\n",
    "groups = df.groupby('work_models')['salary_in_usd'].apply(list)\n",
    "\n",
    "# ANOVA 분석 수행\n",
    "anova_result = stats.f_oneway(*groups)\n",
    "\n",
    "# 결과 출력\n",
    "print(\"ANOVA 결과:\")\n",
    "print(\"F-value:\", anova_result.statistic)\n",
    "print(\"P-value:\", anova_result.pvalue)\n",
    "\n",
    "# P-value 해석\n",
    "if anova_result.pvalue < 0.05:\n",
    "    print(\"유의미한 차이가 있습니다. (근무 형태에 따른 급여 차이가 통계적으로 유의미함)\")\n",
    "else:\n",
    "    print(\"유의미한 차이가 없습니다. (근무 형태에 따른 급여 차이가 통계적으로 유의미하지 않음)\")"
   ]
  },
  {
   "cell_type": "markdown",
   "metadata": {},
   "source": [
    "#### 연도별 급여의 변화"
   ]
  },
  {
   "cell_type": "code",
   "execution_count": 44,
   "metadata": {},
   "outputs": [
    {
     "name": "stderr",
     "output_type": "stream",
     "text": [
      "c:\\Users\\user\\miniconda3\\envs\\ds_study\\lib\\site-packages\\sklearn\\base.py:464: UserWarning: X does not have valid feature names, but LinearRegression was fitted with feature names\n",
      "  warnings.warn(\n"
     ]
    }
   ],
   "source": [
    "from sklearn.model_selection import train_test_split\n",
    "from sklearn.linear_model import LinearRegression\n",
    "import matplotlib.pyplot as plt\n",
    "import numpy as np\n",
    "\n",
    "# 데이터 준비\n",
    "X = df[['work_year']]\n",
    "y = df['salary_in_usd']\n",
    "\n",
    "# 선형 회귀 모델 생성 및 학습\n",
    "model = LinearRegression()\n",
    "model.fit(X, y)\n",
    "\n",
    "# 연도별 연봉 추세를 나타내는 회귀선 예측\n",
    "X_predict = np.array([[min(df['work_year'])], [max(df['work_year'])]])\n",
    "y_predict = model.predict(X_predict)\n"
   ]
  },
  {
   "cell_type": "code",
   "execution_count": 47,
   "metadata": {},
   "outputs": [
    {
     "name": "stdout",
     "output_type": "stream",
     "text": [
      "mae_train: 52252.85697976643\n",
      "r2_train: 0.023325680018721706\n",
      "\n",
      "mae_test: 54735.881984352454\n",
      "r2_test: 0.02231234603330967\n",
      "\n",
      "R-squared: 0.02\n",
      "RMSE: 66773.02\n"
     ]
    }
   ],
   "source": [
    "# 데이터를 학습 세트와 테스트 세트로 분할\n",
    "X_train, X_test, y_train, y_test = train_test_split(X, y, test_size=0.2)# , random_state=0)\n",
    "\n",
    "y_pred_train = model.predict(X_train)\n",
    "y_pred_test = model.predict(X_test)\n",
    "\n",
    "mae_train = mean_absolute_error(y_train, y_pred_train)\n",
    "r2_train = r2_score(y_train, y_pred_train)\n",
    "\n",
    "mae_test = mean_absolute_error(y_test, y_pred_test)\n",
    "r2_test = r2_score(y_test, y_pred_test)\n",
    "\n",
    "# 모델 성능 평가\n",
    "print(f'mae_train: {mae_train}')\n",
    "print(f'r2_train: {r2_train}')\n",
    "print('')\n",
    "print(f'mae_test: {mae_test}')\n",
    "print(f'r2_test: {r2_test}')\n",
    "print('')\n",
    "y_pred = model.predict(X)\n",
    "print(f\"R-squared: {r2_score(y, y_pred):.2f}\")\n",
    "print(f\"RMSE: {np.sqrt(mean_squared_error(y, y_pred)):.2f}\")"
   ]
  },
  {
   "cell_type": "markdown",
   "metadata": {},
   "source": [
    "### 분석모델\n",
    "> ANOVA: 근무모델과 고용형태는 급여와 연관이 있음.\n",
    "- EDA결과와 같이 비교해 보면, 풀타임 근무자이며 대면 근무를 하는 고용인의 급여가 높음을 알 수 있음\n",
    "--------------------------------------------------------------------------------------------\n",
    "> 회귀분석:\n",
    "- 직책과 연도별 예측 모델의 신뢰도는 상당히 낮아 예측의 의미가 없다고 판단.\n",
    "- 대신 EDA결과 직책이 높아질수록 급여가 상승함을 알 수 있음\n",
    "- 코로나 시기에 급격한 급여 상승이 있었음을 알 수 있음"
   ]
  },
  {
   "cell_type": "code",
   "execution_count": null,
   "metadata": {},
   "outputs": [],
   "source": []
  },
  {
   "cell_type": "code",
   "execution_count": null,
   "metadata": {},
   "outputs": [],
   "source": []
  },
  {
   "cell_type": "code",
   "execution_count": null,
   "metadata": {},
   "outputs": [],
   "source": []
  },
  {
   "cell_type": "code",
   "execution_count": null,
   "metadata": {},
   "outputs": [],
   "source": []
  },
  {
   "cell_type": "code",
   "execution_count": null,
   "metadata": {},
   "outputs": [],
   "source": []
  },
  {
   "cell_type": "code",
   "execution_count": null,
   "metadata": {},
   "outputs": [],
   "source": []
  },
  {
   "cell_type": "code",
   "execution_count": null,
   "metadata": {},
   "outputs": [],
   "source": []
  },
  {
   "cell_type": "code",
   "execution_count": null,
   "metadata": {},
   "outputs": [],
   "source": []
  },
  {
   "cell_type": "code",
   "execution_count": null,
   "metadata": {},
   "outputs": [],
   "source": []
  },
  {
   "cell_type": "code",
   "execution_count": null,
   "metadata": {},
   "outputs": [],
   "source": []
  },
  {
   "cell_type": "code",
   "execution_count": null,
   "metadata": {},
   "outputs": [],
   "source": []
  },
  {
   "cell_type": "code",
   "execution_count": null,
   "metadata": {},
   "outputs": [],
   "source": []
  },
  {
   "cell_type": "code",
   "execution_count": null,
   "metadata": {},
   "outputs": [],
   "source": []
  },
  {
   "cell_type": "code",
   "execution_count": null,
   "metadata": {},
   "outputs": [],
   "source": []
  },
  {
   "cell_type": "code",
   "execution_count": null,
   "metadata": {},
   "outputs": [],
   "source": []
  },
  {
   "cell_type": "code",
   "execution_count": null,
   "metadata": {},
   "outputs": [],
   "source": []
  },
  {
   "cell_type": "code",
   "execution_count": null,
   "metadata": {},
   "outputs": [],
   "source": []
  },
  {
   "cell_type": "code",
   "execution_count": null,
   "metadata": {},
   "outputs": [],
   "source": []
  },
  {
   "cell_type": "code",
   "execution_count": null,
   "metadata": {},
   "outputs": [],
   "source": []
  },
  {
   "cell_type": "code",
   "execution_count": null,
   "metadata": {},
   "outputs": [],
   "source": []
  },
  {
   "cell_type": "code",
   "execution_count": null,
   "metadata": {},
   "outputs": [],
   "source": []
  },
  {
   "cell_type": "code",
   "execution_count": null,
   "metadata": {},
   "outputs": [],
   "source": []
  },
  {
   "cell_type": "code",
   "execution_count": null,
   "metadata": {},
   "outputs": [],
   "source": []
  },
  {
   "cell_type": "code",
   "execution_count": null,
   "metadata": {},
   "outputs": [],
   "source": []
  },
  {
   "cell_type": "code",
   "execution_count": null,
   "metadata": {},
   "outputs": [],
   "source": []
  },
  {
   "cell_type": "code",
   "execution_count": null,
   "metadata": {},
   "outputs": [],
   "source": []
  },
  {
   "cell_type": "code",
   "execution_count": null,
   "metadata": {},
   "outputs": [],
   "source": []
  },
  {
   "cell_type": "code",
   "execution_count": null,
   "metadata": {},
   "outputs": [],
   "source": []
  },
  {
   "cell_type": "code",
   "execution_count": null,
   "metadata": {},
   "outputs": [],
   "source": []
  },
  {
   "cell_type": "code",
   "execution_count": null,
   "metadata": {},
   "outputs": [],
   "source": []
  },
  {
   "cell_type": "code",
   "execution_count": null,
   "metadata": {},
   "outputs": [],
   "source": []
  },
  {
   "cell_type": "code",
   "execution_count": null,
   "metadata": {},
   "outputs": [],
   "source": []
  },
  {
   "cell_type": "code",
   "execution_count": null,
   "metadata": {},
   "outputs": [],
   "source": []
  },
  {
   "cell_type": "code",
   "execution_count": null,
   "metadata": {},
   "outputs": [],
   "source": []
  },
  {
   "cell_type": "code",
   "execution_count": null,
   "metadata": {},
   "outputs": [],
   "source": []
  },
  {
   "cell_type": "code",
   "execution_count": null,
   "metadata": {},
   "outputs": [],
   "source": []
  },
  {
   "cell_type": "code",
   "execution_count": null,
   "metadata": {},
   "outputs": [],
   "source": []
  },
  {
   "cell_type": "code",
   "execution_count": null,
   "metadata": {},
   "outputs": [],
   "source": []
  }
 ],
 "metadata": {
  "kernelspec": {
   "display_name": "ds_study",
   "language": "python",
   "name": "ds_study"
  },
  "language_info": {
   "codemirror_mode": {
    "name": "ipython",
    "version": 3
   },
   "file_extension": ".py",
   "mimetype": "text/x-python",
   "name": "python",
   "nbconvert_exporter": "python",
   "pygments_lexer": "ipython3",
   "version": "3.8.18"
  }
 },
 "nbformat": 4,
 "nbformat_minor": 2
}
